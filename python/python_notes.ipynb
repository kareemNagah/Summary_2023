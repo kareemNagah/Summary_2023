{
 "cells": [
  {
   "cell_type": "markdown",
   "metadata": {},
   "source": [
    "> # __Python Notes__"
   ]
  },
  {
   "cell_type": "markdown",
   "metadata": {},
   "source": [
    "# _Iterators vs Iterables_"
   ]
  },
  {
   "cell_type": "code",
   "execution_count": 1,
   "metadata": {},
   "outputs": [
    {
     "name": "stdout",
     "output_type": "stream",
     "text": [
      "4\n",
      "7\n",
      "0\n",
      "3\n"
     ]
    }
   ],
   "source": [
    "# iterable objects are strings, lists, tuples, dictionaries, sets, file connections\n",
    "# or object contains data we can iterated upon\n",
    "my_list = [4, 7, 0, 3] \n",
    "for i in my_list: \n",
    "    print(i) "
   ]
  },
  {
   "cell_type": "code",
   "execution_count": 6,
   "metadata": {},
   "outputs": [
    {
     "name": "stdout",
     "output_type": "stream",
     "text": [
      "<list_iterator object at 0x00E63820>\n"
     ]
    }
   ],
   "source": [
    "# Iterrator objects can be created using iter() function and produces next value with next() function \n",
    "# or object represents stream of data \n",
    "# for loop actually creates an iterator object and executes next() function for each loop , until StopIteration error is raised\n",
    "my_list = [4, 7, 0, 3] \n",
    "my_iter = iter(my_list) \n",
    "print(my_iter)"
   ]
  },
  {
   "cell_type": "code",
   "execution_count": 7,
   "metadata": {},
   "outputs": [
    {
     "name": "stdout",
     "output_type": "stream",
     "text": [
      "4\n",
      "7\n",
      "0\n",
      "3\n"
     ]
    }
   ],
   "source": [
    "# every time next() is called, it produces next value in the sequence \n",
    "print(next(my_iter)) \n",
    "print(next(my_iter))\n",
    "print(next(my_iter))\n",
    "print(next(my_iter))"
   ]
  },
  {
   "cell_type": "code",
   "execution_count": 8,
   "metadata": {},
   "outputs": [
    {
     "ename": "StopIteration",
     "evalue": "",
     "output_type": "error",
     "traceback": [
      "\u001b[1;31m---------------------------------------------------------------------------\u001b[0m",
      "\u001b[1;31mStopIteration\u001b[0m                             Traceback (most recent call last)",
      "\u001b[1;32mf:\\Summary\\python\\python_notes.ipynb Cell 6\u001b[0m in \u001b[0;36m<cell line: 2>\u001b[1;34m()\u001b[0m\n\u001b[0;32m      <a href='vscode-notebook-cell:/f%3A/Summary/python/python_notes.ipynb#X13sZmlsZQ%3D%3D?line=0'>1</a>\u001b[0m \u001b[39m# if we try to call next() more than the number of values, it will throw an error\u001b[39;00m\n\u001b[1;32m----> <a href='vscode-notebook-cell:/f%3A/Summary/python/python_notes.ipynb#X13sZmlsZQ%3D%3D?line=1'>2</a>\u001b[0m \u001b[39mprint\u001b[39m(\u001b[39mnext\u001b[39;49m(my_iter))\n",
      "\u001b[1;31mStopIteration\u001b[0m: "
     ]
    }
   ],
   "source": [
    "# if we try to call next() more than the number of values, it will throw an error StopIteration\n",
    "print(next(my_iter))"
   ]
  },
  {
   "cell_type": "markdown",
   "metadata": {},
   "source": [
    "## __Generators__\n",
    ">> #### _Generators are functions that return an iterable object that can be iterated over only once. Generators are used to create iterators, but with a different approach. Generators are simple functions which return an iterable set of items, one at a time, in a special way. When an iteration over a set of item starts using the for statement, the generator is run. Once the generator's function code reaches a \"yield\" statement, the generator yields its execution back to the for loop, returning a new value from the set. The generator function can generate as many values (possibly infinite) as it wants, yielding each one in its turn. Generators are memory efficient because they only load the data needed for the next iteration._\n",
    "\n",
    "yield: The yield statement suspends function’s execution and sends a value back to the caller, but retains enough state to enable function to resume where it is left off. When resumed, the function continues execution immediately after the last yield run. This allows its code to produce a series of values over time, rather than computing them at once and sending them back like a list.\n"
   ]
  },
  {
   "cell_type": "code",
   "execution_count": 9,
   "metadata": {},
   "outputs": [
    {
     "name": "stdout",
     "output_type": "stream",
     "text": [
      "3\n"
     ]
    }
   ],
   "source": [
    "# basic function with return \n",
    "def my_function(): \n",
    "    a = 1\n",
    "    b = 2\n",
    "    c = a + b \n",
    "    return c \n",
    "print(my_function())"
   ]
  },
  {
   "cell_type": "code",
   "execution_count": 13,
   "metadata": {},
   "outputs": [
    {
     "name": "stdout",
     "output_type": "stream",
     "text": [
      "<generator object my_generator at 0x049F3568>\n"
     ]
    }
   ],
   "source": [
    "# function with yield wich returns a generator object \n",
    "# when start its not called automatically, but it gives you control of when to call it \n",
    "def my_generator(): \n",
    "    yield 1 \n",
    "    yield 2\n",
    "    yield 3 \n",
    "print(my_generator())"
   ]
  },
  {
   "cell_type": "code",
   "execution_count": 14,
   "metadata": {},
   "outputs": [
    {
     "name": "stdout",
     "output_type": "stream",
     "text": [
      "1\n",
      "2\n",
      "##############################\n",
      "3\n"
     ]
    }
   ],
   "source": [
    "MyGenerator = my_generator() \n",
    "print(next(MyGenerator))\n",
    "print(next(MyGenerator))\n",
    "print(\"#\"*30)\n",
    "# we can use for loop to iterate over generator object\n",
    "for num in MyGenerator: \n",
    "    print(num)"
   ]
  },
  {
   "cell_type": "markdown",
   "metadata": {},
   "source": [
    "### __Generator expression__"
   ]
  },
  {
   "cell_type": "code",
   "execution_count": 17,
   "metadata": {},
   "outputs": [
    {
     "name": "stdout",
     "output_type": "stream",
     "text": [
      "<generator object <genexpr> at 0x00F326F0>\n"
     ]
    }
   ],
   "source": [
    "# we can create generator object using generator expression like list comprehension \n",
    "# generator expression is surrounded by () instead of [] \n",
    "my_generator = (num*2 for num in range(6))\n",
    "print(my_generator) "
   ]
  },
  {
   "cell_type": "code",
   "execution_count": 18,
   "metadata": {},
   "outputs": [
    {
     "name": "stdout",
     "output_type": "stream",
     "text": [
      "0\n",
      "2\n",
      "4\n"
     ]
    }
   ],
   "source": [
    "print(next(my_generator))\n",
    "print(next(my_generator))\n",
    "print(next(my_generator))"
   ]
  },
  {
   "cell_type": "code",
   "execution_count": 19,
   "metadata": {},
   "outputs": [
    {
     "name": "stdout",
     "output_type": "stream",
     "text": [
      "6\n",
      "8\n",
      "10\n"
     ]
    }
   ],
   "source": [
    "# we can use for loop to iterate over generator object\n",
    "for num in my_generator: \n",
    "    print(num)"
   ]
  },
  {
   "cell_type": "markdown",
   "metadata": {},
   "source": [
    ">> ### __but why we use generators ?__ "
   ]
  },
  {
   "cell_type": "markdown",
   "metadata": {},
   "source": [
    "### in term of memory usage and performance : \n",
    "- Generators can be useful in a variety of situations where you need to generate a large sequence of values, but you don't want to generate them all at once due to memory constraints or other reasons. \n",
    "1. Generating an infinite sequence: Since generators produce values on-demand, they can be used to generate an infinite sequence of values. For example, the following generator function generates an infinite sequence of even numbers:\n",
    "```python\n",
    "def even_numbers():\n",
    "    n = 0\n",
    "    while True:\n",
    "        yield n\n",
    "        n += 2 \n",
    "```\n",
    "2. Processing large files: Generators are useful for reading large files since they don't require loading the entire contents of the file into memory all at once. This can be especially useful when processing large XML files or CSV files. For example, the following generator function reads a CSV file and yields a tuple for each row in the file:\n",
    "```python\n",
    "def process_file(filename):\n",
    "    with open(filename) as f:\n",
    "        for line in f:\n",
    "            # process line here\n",
    "            yield processed_line\n",
    "``` \n",
    "3. Calculating large sets of values: Generators can also be used to calculate large sets of values that may not fit in memory. For example, the following generator function calculates the first 1,000,000 squares:\n",
    "```python\n",
    "def calculate_squares(n):\n",
    "    for i in range(1, n+1):\n",
    "        yield i**2\n",
    "```"
   ]
  },
  {
   "cell_type": "code",
   "execution_count": 36,
   "metadata": {},
   "outputs": [
    {
     "name": "stdout",
     "output_type": "stream",
     "text": [
      "Memory (Before): [22.3671875]Mb\n",
      "Memory (After): [22.39453125]Mb\n",
      "--------------------------------------------------\n",
      "Took 9.499999941908754e-05 secounds\n"
     ]
    }
   ],
   "source": [
    "## example of how generators are memory efficient :\n",
    "import memory_profiler as mem_profile\n",
    "import random\n",
    "import time \n",
    "\n",
    "names = ['John', 'Corey', 'Adam', 'Steve', 'Rick', 'Thomas']\n",
    "majors = ['Math', 'Engineering', 'CompSci', 'Arts', 'Business']\n",
    "\n",
    "print(f\"Memory (Before): {mem_profile.memory_usage()}Mb\") # to print the memory usage before running the function \n",
    "\n",
    "# function that returns a list of people with random names and majors\n",
    "def people_list(num_people):\n",
    "    result = []\n",
    "    for i in range(num_people):\n",
    "        person = {\n",
    "            'id': i ,\n",
    "            'name': random.choice(names) ,\n",
    "            'majours' : random.choice(majors) \n",
    "        }\n",
    "        result.append(person)\n",
    "    return result \n",
    "# generator function that does the same thing as people_list function \n",
    "def people_generator(num_people):\n",
    "    result = []\n",
    "    for i in range(num_people):\n",
    "         person = {\n",
    "            'id': i ,\n",
    "            'name': random.choice(names) ,\n",
    "            'majours' : random.choice(majors) \n",
    "        }\n",
    "         yield person  # enerate each value on-the-fly and the generator function only keeps track of the current position in the iteration \n",
    "         \n",
    "# to test the memory usage of each function\n",
    "     \n",
    "\"\"\" t1 = time.perf_counter()\n",
    "people = people_list(1000000) \n",
    "t2 = time.perf_counter() \n",
    " \"\"\"\n",
    "\n",
    "\n",
    "t1 = time.perf_counter()\n",
    "people = people_generator(1000000)\n",
    "t2 = time.perf_counter()\n",
    "\n",
    "# to print the memory usage and time consumed \n",
    "print(f\"Memory (After): {mem_profile.memory_usage()}Mb\")\n",
    "print(\"-\"*50)\n",
    "print(f\"Took {t2-t1} secounds\")\n"
   ]
  },
  {
   "cell_type": "code",
   "execution_count": 37,
   "metadata": {},
   "outputs": [
    {
     "name": "stdout",
     "output_type": "stream",
     "text": [
      "{'id': 0, 'name': 'Steve', 'majours': 'Arts'}\n",
      "{'id': 1, 'name': 'Adam', 'majours': 'Engineering'}\n"
     ]
    }
   ],
   "source": [
    "# example of how to use generator function\n",
    "print(next(people))\n",
    "print(next(people))"
   ]
  },
  {
   "cell_type": "code",
   "execution_count": 38,
   "metadata": {},
   "outputs": [
    {
     "name": "stdout",
     "output_type": "stream",
     "text": [
      "{'id': 2, 'name': 'Rick', 'majours': 'Math'}\n",
      "{'id': 3, 'name': 'Steve', 'majours': 'Arts'}\n",
      "{'id': 4, 'name': 'John', 'majours': 'Math'}\n",
      "{'id': 5, 'name': 'John', 'majours': 'Engineering'}\n",
      "{'id': 6, 'name': 'John', 'majours': 'CompSci'}\n",
      "{'id': 7, 'name': 'Rick', 'majours': 'Engineering'}\n",
      "{'id': 8, 'name': 'Steve', 'majours': 'Engineering'}\n",
      "{'id': 9, 'name': 'John', 'majours': 'Business'}\n",
      "{'id': 10, 'name': 'Adam', 'majours': 'Math'}\n",
      "{'id': 11, 'name': 'Thomas', 'majours': 'Arts'}\n",
      "{'id': 12, 'name': 'Corey', 'majours': 'Math'}\n",
      "{'id': 13, 'name': 'Thomas', 'majours': 'CompSci'}\n",
      "{'id': 14, 'name': 'Adam', 'majours': 'Math'}\n",
      "{'id': 15, 'name': 'Rick', 'majours': 'Business'}\n",
      "{'id': 16, 'name': 'John', 'majours': 'Business'}\n",
      "{'id': 17, 'name': 'Thomas', 'majours': 'Arts'}\n",
      "{'id': 18, 'name': 'Corey', 'majours': 'Math'}\n",
      "{'id': 19, 'name': 'Thomas', 'majours': 'Math'}\n",
      "{'id': 20, 'name': 'Rick', 'majours': 'Arts'}\n"
     ]
    }
   ],
   "source": [
    "# we can use for loop to iterate over generator object\n",
    "for person in people: \n",
    "    print(person)\n",
    "    if person['id'] == 20: \n",
    "        break"
   ]
  },
  {
   "cell_type": "code",
   "execution_count": null,
   "metadata": {},
   "outputs": [],
   "source": [
    " "
   ]
  }
 ],
 "metadata": {
  "kernelspec": {
   "display_name": "base",
   "language": "python",
   "name": "python3"
  },
  "language_info": {
   "codemirror_mode": {
    "name": "ipython",
    "version": 3
   },
   "file_extension": ".py",
   "mimetype": "text/x-python",
   "name": "python",
   "nbconvert_exporter": "python",
   "pygments_lexer": "ipython3",
   "version": "3.9.12"
  },
  "orig_nbformat": 4
 },
 "nbformat": 4,
 "nbformat_minor": 2
}
